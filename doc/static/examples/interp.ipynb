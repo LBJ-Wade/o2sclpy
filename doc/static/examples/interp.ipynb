{
 "cells": [
  {
   "cell_type": "raw",
   "id": "2066ba54",
   "metadata": {},
   "source": [
    "# O$_2$scl interpolation example for O$_2$sclpy"
   ]
  },
  {
   "cell_type": "markdown",
   "id": "86cf38a6",
   "metadata": {},
   "source": [
    "See the O$_2$sclpy documentation at\n",
    "https://neutronstars.utk.edu/code/o2sclpy for more information."
   ]
  },
  {
   "cell_type": "code",
   "execution_count": 3,
   "id": "aedb63ae",
   "metadata": {},
   "outputs": [],
   "source": [
    "import o2sclpy\n",
    "import matplotlib.pyplot as plot\n",
    "import sys\n",
    "import math\n",
    "import numpy\n",
    "from sklearn.gaussian_process import GaussianProcessRegressor\n",
    "from sklearn.gaussian_process.kernels import RBF, ConstantKernel\n",
    "\n",
    "plots=True\n",
    "if 'pytest' in sys.modules:\n",
    "    plots=False"
   ]
  },
  {
   "cell_type": "markdown",
   "id": "b98d904b",
   "metadata": {},
   "source": [
    "Link the o2scl library:"
   ]
  },
  {
   "cell_type": "code",
   "execution_count": 4,
   "id": "c227db17",
   "metadata": {},
   "outputs": [],
   "source": [
    "link=o2sclpy.linker()\n",
    "link.link_o2scl()"
   ]
  },
  {
   "cell_type": "code",
   "execution_count": 5,
   "id": "6bafcc6f",
   "metadata": {},
   "outputs": [],
   "source": [
    "def f(x):\n",
    "    return math.sin(1.0/(0.3+x))"
   ]
  },
  {
   "cell_type": "code",
   "execution_count": 6,
   "id": "c2531b03",
   "metadata": {},
   "outputs": [],
   "source": [
    "xa=[0 for i in range(0,20)]\n",
    "ya=[0 for i in range(0,20)]\n",
    "for i in range(0,20):\n",
    "    if i>0:\n",
    "        xa[i]=xa[i-1]+((i)/40)**2\n",
    "    ya[i]=math.sin(1.0/(0.3+xa[i]))"
   ]
  },
  {
   "cell_type": "code",
   "execution_count": 7,
   "id": "6a7876fd",
   "metadata": {},
   "outputs": [
    {
     "name": "stdout",
     "output_type": "stream",
     "text": [
      "mean: 5.008483e-01, std: 4.304529e-01\n"
     ]
    }
   ],
   "source": [
    "m=numpy.mean(ya)\n",
    "s=numpy.std(ya,ddof=1)\n",
    "print('mean: %7.6e, std: %7.6e' % (m,s))\n",
    "ya2=[(ya[i]-m)/s for i in range(0,20)]"
   ]
  },
  {
   "cell_type": "markdown",
   "id": "e81cc1de",
   "metadata": {},
   "source": [
    "We create a table object and specify a blank name to indicate\n",
    "that we just want to read the first table in the file."
   ]
  },
  {
   "cell_type": "code",
   "execution_count": 8,
   "id": "53c09c79",
   "metadata": {},
   "outputs": [],
   "source": [
    "xp=o2sclpy.std_vector(link)\n",
    "yp=o2sclpy.std_vector(link)\n",
    "xp.resize(20)\n",
    "yp.resize(20)\n",
    "for i in range(0,20):\n",
    "    xp[i]=xa[i]\n",
    "    yp[i]=ya2[i]"
   ]
  },
  {
   "cell_type": "code",
   "execution_count": 9,
   "id": "40418226",
   "metadata": {},
   "outputs": [],
   "source": [
    "iv_lin=o2sclpy.interp_vec(link)\n",
    "iv_lin.set(20,xp,yp,o2sclpy.itp_linear)\n",
    "iv_csp=o2sclpy.interp_vec(link)\n",
    "iv_csp.set(20,xp,yp,o2sclpy.itp_cspline)\n",
    "iv_aki=o2sclpy.interp_vec(link)\n",
    "iv_aki.set(20,xp,yp,o2sclpy.itp_akima)\n",
    "iv_mon=o2sclpy.interp_vec(link)\n",
    "iv_mon.set(20,xp,yp,o2sclpy.itp_monotonic)\n",
    "iv_stef=o2sclpy.interp_vec(link)\n",
    "iv_stef.set(20,xp,yp,o2sclpy.itp_steffen)"
   ]
  },
  {
   "cell_type": "code",
   "execution_count": 10,
   "id": "f8e78e5e",
   "metadata": {},
   "outputs": [],
   "source": [
    "iv_ko=o2sclpy.interp_vec(link)\n",
    "iv_ko.set(20,xp,yp,o2sclpy.itp_steffen)"
   ]
  },
  {
   "cell_type": "code",
   "execution_count": 11,
   "id": "f54669d0",
   "metadata": {},
   "outputs": [
    {
     "data": {
      "text/plain": [
       "[<matplotlib.lines.Line2D at 0x11d332250>]"
      ]
     },
     "execution_count": 11,
     "metadata": {},
     "output_type": "execute_result"
    },
    {
     "data": {
      "image/png": "[encoded data removed]",
      "text/plain": [
       "<Figure size 432x288 with 1 Axes>"
      ]
     },
     "metadata": {
      "needs_background": "light"
     },
     "output_type": "display_data"
    }
   ],
   "source": [
    "plot.plot(xa,ya,lw=0,marker='+')\n",
    "plot.plot(xa,[iv_lin.eval(xa[i])*s+m for i in range(0,20)])\n",
    "plot.plot(xa,[iv_csp.eval(xa[i])*s+m for i in range(0,20)])\n",
    "plot.plot(xa,[iv_aki.eval(xa[i])*s+m for i in range(0,20)])\n",
    "plot.plot(xa,[iv_mon.eval(xa[i])*s+m for i in range(0,20)])\n",
    "plot.plot(xa,[iv_stef.eval(xa[i])*s+m for i in range(0,20)])"
   ]
  },
  {
   "cell_type": "code",
   "execution_count": 12,
   "id": "44f7c0b3",
   "metadata": {},
   "outputs": [],
   "source": [
    "max=xa[19]\n",
    "xb=[i/2000.0*max for i in range(0,2001)]"
   ]
  },
  {
   "cell_type": "code",
   "execution_count": 17,
   "id": "7f9288fd",
   "metadata": {},
   "outputs": [],
   "source": [
    "xa2=numpy.array(xa).reshape(-1,1)"
   ]
  },
  {
   "cell_type": "code",
   "execution_count": 21,
   "id": "5e06e0e9",
   "metadata": {},
   "outputs": [
    {
     "name": "stdout",
     "output_type": "stream",
     "text": [
      "hp Hyperparameter(name='length_scale', value_type='numeric', bounds=array([[1.e-02, 1.e+02]]), n_elements=1, fixed=False)\n",
      "kp: length_scale : 0.131209933688579\n",
      "kp: length_scale_bounds : (0.01, 100.0)\n",
      "gpp: alpha : 1e-10\n",
      "gpp: copy_X_train : True\n",
      "gpp: kernel : RBF(length_scale=1)\n",
      "gpp: kernel__length_scale : 1.0\n",
      "gpp: kernel__length_scale_bounds : (0.01, 100.0)\n",
      "gpp: n_restarts_optimizer : 0\n",
      "gpp: normalize_y : False\n",
      "gpp: optimizer : fmin_l_bfgs_b\n",
      "gpp: random_state : None\n"
     ]
    }
   ],
   "source": [
    "kernel=RBF(1.0,(1.0e-2,1.0e2))\n",
    "gpr=GaussianProcessRegressor(kernel=kernel).fit(xa2,ya)\n",
    "\n",
    "for hyperparameter in gpr.kernel_.hyperparameters:\n",
    "    print('hp',hyperparameter)\n",
    "params = gpr.kernel_.get_params()\n",
    "for key in sorted(params):\n",
    "    print(\"kp: %s : %s\" % (key, params[key]))\n",
    "params2=gpr.get_params()\n",
    "for key in sorted(params2):\n",
    "    print(\"gpp: %s : %s\" % (key, params2[key]))"
   ]
  },
  {
   "cell_type": "code",
   "execution_count": 26,
   "id": "c42f1d0e",
   "metadata": {},
   "outputs": [
    {
     "data": {
      "text/plain": [
       "[<matplotlib.lines.Line2D at 0x11ee5e6d0>]"
      ]
     },
     "execution_count": 26,
     "metadata": {},
     "output_type": "execute_result"
    },
    {
     "data": {
      "image/png": "[encoded data removed]",
      "text/plain": [
       "<Figure size 432x288 with 1 Axes>"
      ]
     },
     "metadata": {
      "needs_background": "light"
     },
     "output_type": "display_data"
    }
   ],
   "source": [
    "plot.semilogy(xb,[abs(f(xb[i])-(iv_lin.eval(xb[i])*s+m)) \n",
    "                  for i in range(0,2001)],color='black',lw=0.5)\n",
    "plot.semilogy(xb,[abs(f(xb[i])-(iv_csp.eval(xb[i])*s+m)) \n",
    "                  for i in range(0,2001)],color='red',lw=0.5)\n",
    "plot.semilogy(xb,[abs(f(xb[i])-(iv_stef.eval(xb[i])*s+m)) \n",
    "                  for i in range(0,2001)],color='blue',lw=0.5)\n",
    "plot.semilogy(xb,[abs(f(xb[i])-(gpr.predict(numpy.array(xb[i]).reshape(-1,1)))) \n",
    "                  for i in range(0,2001)],color='green',lw=0.5)"
   ]
  },
  {
   "cell_type": "code",
   "execution_count": null,
   "id": "b4caf099",
   "metadata": {},
   "outputs": [],
   "source": []
  }
 ],
 "metadata": {
  "jupytext": {
   "cell_metadata_filter": "-all",
   "main_language": "python",
   "notebook_metadata_filter": "-all"
  },
  "kernelspec": {
   "display_name": "Python 3 (ipykernel)",
   "language": "python",
   "name": "python3"
  },
  "language_info": {
   "codemirror_mode": {
    "name": "ipython",
    "version": 3
   },
   "file_extension": ".py",
   "mimetype": "text/x-python",
   "name": "python",
   "nbconvert_exporter": "python",
   "pygments_lexer": "ipython3",
   "version": "3.9.8"
  }
 },
 "nbformat": 4,
 "nbformat_minor": 5
}
