{
 "cells": [
  {
   "cell_type": "markdown",
   "metadata": {},
   "source": [
    "# SFHo/SFHx example for O$_2$sclpy"
   ]
  },
  {
   "cell_type": "markdown",
   "metadata": {},
   "source": [
    "See the O$_2$sclpy documentation at https://neutronstars.utk.edu/code/o2sclpy for more information."
   ]
  },
  {
   "cell_type": "code",
   "execution_count": 10,
   "metadata": {},
   "outputs": [],
   "source": [
    "import o2sclpy\n",
    "import matplotlib.pyplot as plot\n",
    "import numpy\n",
    "import sys\n",
    "\n",
    "plots=True\n",
    "if 'pytest' in sys.modules:\n",
    "    plots=False"
   ]
  },
  {
   "cell_type": "markdown",
   "metadata": {},
   "source": [
    "Link the O$_2$scl library:"
   ]
  },
  {
   "cell_type": "code",
   "execution_count": 11,
   "metadata": {},
   "outputs": [],
   "source": [
    "link=o2sclpy.linker()\n",
    "link.link_o2scl()"
   ]
  },
  {
   "cell_type": "markdown",
   "metadata": {},
   "source": [
    "Get the value of $\\hbar c$ from an O$_2$scl find_constants object:"
   ]
  },
  {
   "cell_type": "code",
   "execution_count": 12,
   "metadata": {},
   "outputs": [
    {
     "name": "stdout",
     "output_type": "stream",
     "text": [
      "hbarc = 1.973270e+02\n"
     ]
    }
   ],
   "source": [
    "fc=o2sclpy.find_constants(link)\n",
    "hc=fc.find_unique('hbarc','MeV*fm')\n",
    "print('hbarc = %7.6e' % (hc))"
   ]
  },
  {
   "cell_type": "markdown",
   "metadata": {},
   "source": [
    "Get a copy (a pointer to) the O$_2$scl unit conversion object:"
   ]
  },
  {
   "cell_type": "code",
   "execution_count": 13,
   "metadata": {},
   "outputs": [],
   "source": [
    "cu=link.o2scl_settings.get_convert_units()"
   ]
  },
  {
   "cell_type": "code",
   "execution_count": 14,
   "metadata": {},
   "outputs": [],
   "source": [
    "sfho=o2sclpy.eos_had_rmf(link)\n",
    "o2sclpy.rmf_load(link,sfho,'SFHo')\n",
    "sfhx=o2sclpy.eos_had_rmf(link)\n",
    "o2sclpy.rmf_load(link,sfhx,'SFHx')"
   ]
  },
  {
   "cell_type": "markdown",
   "metadata": {},
   "source": [
    "Compute nuclear saturation and output the saturation density\n",
    "and binding energy:"
   ]
  },
  {
   "cell_type": "code",
   "execution_count": 15,
   "metadata": {},
   "outputs": [
    {
     "name": "stdout",
     "output_type": "stream",
     "text": [
      "SFHo: n0=1.582415e-01 1/fm^3, E/A=-1.617240e+01 MeV, K=2.452197e+02 MeV, M*/M=7.610394e-01, S=3.123132e+01 MeV, L=4.574132e+01 MeV\n",
      "\n"
     ]
    }
   ],
   "source": [
    "sfho.saturation()\n",
    "print('SFHo: n0=%7.6e 1/fm^3, E/A=%7.6e MeV, K=%7.6e MeV, M*/M=%7.6e, S=%7.6e MeV, L=%7.6e MeV' % \n",
    "      (sfho.n0,sfho.eoa*hc,sfho.comp*hc,sfho.msom,sfho.esym*hc,\n",
    "       sfho.fesym_slope(sfho.n0)*hc))\n",
    "print('')"
   ]
  },
  {
   "cell_type": "code",
   "execution_count": 16,
   "metadata": {},
   "outputs": [
    {
     "name": "stdout",
     "output_type": "stream",
     "text": [
      "SFHx: n0=1.600292e-01 1/fm^3, E/A=-1.614755e+01 MeV, K=2.386343e+02 MeV, M*/M=7.181083e-01, S=2.827242e+01 MeV, L=2.318892e+01 MeV\n",
      "\n"
     ]
    }
   ],
   "source": [
    "sfhx.saturation()\n",
    "print('SFHx: n0=%7.6e 1/fm^3, E/A=%7.6e MeV, K=%7.6e MeV, M*/M=%7.6e, S=%7.6e MeV, L=%7.6e MeV' % \n",
    "      (sfhx.n0,sfhx.eoa*hc,sfhx.comp*hc,sfhx.msom,sfhx.esym*hc,\n",
    "       sfhx.fesym_slope(sfhx.n0)*hc))\n",
    "print('')"
   ]
  },
  {
   "cell_type": "code",
   "execution_count": null,
   "metadata": {},
   "outputs": [],
   "source": [
    "#xarr=[i*0.02+0.02 for i in range(0,16)]\n",
    "#for T in numpy.arange(0,20,5):\n",
    "#    sfho.calc_\n",
    "    "
   ]
  },
  {
   "cell_type": "code",
   "execution_count": 17,
   "metadata": {},
   "outputs": [],
   "source": [
    "def test_fun():\n",
    "    assert numpy.allclose(sfho.n0,0.1582415,rtol=1.0e-4)\n",
    "    assert numpy.allclose(sfhx.n0,0.1600292,rtol=1.0e-4)\n",
    "    return"
   ]
  },
  {
   "cell_type": "code",
   "execution_count": null,
   "metadata": {},
   "outputs": [],
   "source": []
  }
 ],
 "metadata": {
  "jupytext": {
   "cell_metadata_filter": "-all",
   "main_language": "python",
   "notebook_metadata_filter": "-all"
  },
  "kernelspec": {
   "display_name": "Python 3",
   "language": "python",
   "name": "python3"
  },
  "language_info": {
   "codemirror_mode": {
    "name": "ipython",
    "version": 3
   },
   "file_extension": ".py",
   "mimetype": "text/x-python",
   "name": "python",
   "nbconvert_exporter": "python",
   "pygments_lexer": "ipython3",
   "version": "3.9.4"
  }
 },
 "nbformat": 4,
 "nbformat_minor": 4
}
