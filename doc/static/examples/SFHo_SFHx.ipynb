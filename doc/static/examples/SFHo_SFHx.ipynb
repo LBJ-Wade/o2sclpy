{
 "cells": [
  {
   "cell_type": "markdown",
   "metadata": {},
   "source": [
    "# SFHo/SFHx example for O$_2$sclpy"
   ]
  },
  {
   "cell_type": "markdown",
   "metadata": {},
   "source": [
    "See the O$_2$sclpy documentation at https://neutronstars.utk.edu/code/o2sclpy for more information."
   ]
  },
  {
   "cell_type": "code",
   "execution_count": 2,
   "metadata": {},
   "outputs": [],
   "source": [
    "import o2sclpy\n",
    "import matplotlib.pyplot as plot\n",
    "import ctypes\n",
    "import numpy\n",
    "import sys\n",
    "\n",
    "plots=True\n",
    "if 'pytest' in sys.modules:\n",
    "    plots=False"
   ]
  },
  {
   "cell_type": "markdown",
   "metadata": {},
   "source": [
    "Link the O$_2$scl library:"
   ]
  },
  {
   "cell_type": "code",
   "execution_count": 3,
   "metadata": {},
   "outputs": [],
   "source": [
    "link=o2sclpy.linker()\n",
    "link.link_o2scl()"
   ]
  },
  {
   "cell_type": "markdown",
   "metadata": {},
   "source": [
    "Get the value of $\\hbar c$ from an O$_2$scl find_constants object:"
   ]
  },
  {
   "cell_type": "code",
   "execution_count": 4,
   "metadata": {},
   "outputs": [
    {
     "name": "stdout",
     "output_type": "stream",
     "text": [
      "hbarc = 1.973270e+02\n"
     ]
    }
   ],
   "source": [
    "fc=o2sclpy.find_constants(link)\n",
    "hc=fc.find_unique('hbarc','MeV*fm')\n",
    "print('hbarc = %7.6e' % (hc))"
   ]
  },
  {
   "cell_type": "markdown",
   "metadata": {},
   "source": [
    "Get a copy (a pointer to) the O$_2$scl unit conversion object:"
   ]
  },
  {
   "cell_type": "code",
   "execution_count": 5,
   "metadata": {},
   "outputs": [],
   "source": [
    "cu=link.o2scl_settings.get_convert_units()"
   ]
  },
  {
   "cell_type": "code",
   "execution_count": 6,
   "metadata": {},
   "outputs": [],
   "source": [
    "sfho=o2sclpy.eos_had_rmf(link)\n",
    "o2sclpy.rmf_load(link,sfho,'SFHo')\n",
    "sfho_old=o2sclpy.eos_had_rmf(link)\n",
    "o2sclpy.rmf_load(link,sfho_old,'SFHo_old')\n",
    "sfhx=o2sclpy.eos_had_rmf(link)\n",
    "o2sclpy.rmf_load(link,sfhx,'SFHx')\n",
    "sfhx_old=o2sclpy.eos_had_rmf(link)\n",
    "o2sclpy.rmf_load(link,sfhx_old,'SFHx_old')"
   ]
  },
  {
   "cell_type": "markdown",
   "metadata": {},
   "source": [
    "Compute nuclear saturation and output the saturation density\n",
    "and binding energy:"
   ]
  },
  {
   "cell_type": "code",
   "execution_count": 7,
   "metadata": {},
   "outputs": [
    {
     "name": "stdout",
     "output_type": "stream",
     "text": [
      "SFHo: n0=1.582415e-01 1/fm^3, E/A=-1.617240e+01 MeV, K=2.452197e+02 MeV, M*/M=7.610394e-01, S=3.123132e+01 MeV, L=4.574132e+01 MeV\n",
      "\n"
     ]
    }
   ],
   "source": [
    "sfho.saturation()\n",
    "print('SFHo: n0=%7.6e 1/fm^3, E/A=%7.6e MeV, K=%7.6e MeV, M*/M=%7.6e, S=%7.6e MeV, L=%7.6e MeV' % \n",
    "      (sfho.n0,sfho.eoa*hc,sfho.comp*hc,sfho.msom,sfho.esym*hc,\n",
    "       sfho.fesym_slope(sfho.n0)*hc))\n",
    "print('')"
   ]
  },
  {
   "cell_type": "code",
   "execution_count": 8,
   "metadata": {},
   "outputs": [
    {
     "name": "stdout",
     "output_type": "stream",
     "text": [
      "SFHo_old: n0=1.582673e-01 1/fm^3, E/A=-1.610892e+01 MeV, K=2.430965e+02 MeV, M*/M=7.614850e-01, S=3.179160e+01 MeV, L=4.522591e+01 MeV\n",
      "\n"
     ]
    }
   ],
   "source": [
    "sfho_old.saturation()\n",
    "print('SFHo_old: n0=%7.6e 1/fm^3, E/A=%7.6e MeV, K=%7.6e MeV, M*/M=%7.6e, S=%7.6e MeV, L=%7.6e MeV' % \n",
    "      (sfho_old.n0,sfho_old.eoa*hc,sfho_old.comp*hc,sfho_old.msom,sfho_old.esym*hc,\n",
    "       sfho_old.fesym_slope(sfho_old.n0)*hc))\n",
    "print('')"
   ]
  },
  {
   "cell_type": "code",
   "execution_count": 9,
   "metadata": {},
   "outputs": [
    {
     "name": "stdout",
     "output_type": "stream",
     "text": [
      "SFHx: n0=1.600292e-01 1/fm^3, E/A=-1.614755e+01 MeV, K=2.386343e+02 MeV, M*/M=7.181083e-01, S=2.827242e+01 MeV, L=2.318892e+01 MeV\n",
      "\n"
     ]
    }
   ],
   "source": [
    "sfhx.saturation()\n",
    "print('SFHx: n0=%7.6e 1/fm^3, E/A=%7.6e MeV, K=%7.6e MeV, M*/M=%7.6e, S=%7.6e MeV, L=%7.6e MeV' % \n",
    "      (sfhx.n0,sfhx.eoa*hc,sfhx.comp*hc,sfhx.msom,sfhx.esym*hc,\n",
    "       sfhx.fesym_slope(sfhx.n0)*hc))\n",
    "print('')"
   ]
  },
  {
   "cell_type": "code",
   "execution_count": 10,
   "metadata": {},
   "outputs": [
    {
     "name": "stdout",
     "output_type": "stream",
     "text": [
      "SFHx_old: n0=1.625773e-01 1/fm^3, E/A=-1.643793e+01 MeV, K=2.438174e+02 MeV, M*/M=7.034481e-01, S=2.830425e+01 MeV, L=2.431376e+01 MeV\n",
      "\n"
     ]
    }
   ],
   "source": [
    "sfhx_old.saturation()\n",
    "print('SFHx_old: n0=%7.6e 1/fm^3, E/A=%7.6e MeV, K=%7.6e MeV, M*/M=%7.6e, S=%7.6e MeV, L=%7.6e MeV' % \n",
    "      (sfhx_old.n0,sfhx_old.eoa*hc,sfhx_old.comp*hc,sfhx_old.msom,sfhx_old.esym*hc,\n",
    "       sfhx_old.fesym_slope(sfhx_old.n0)*hc))\n",
    "print('')"
   ]
  },
  {
   "cell_type": "code",
   "execution_count": null,
   "metadata": {},
   "outputs": [],
   "source": []
  }
 ],
 "metadata": {
  "jupytext": {
   "cell_metadata_filter": "-all",
   "main_language": "python",
   "notebook_metadata_filter": "-all"
  },
  "kernelspec": {
   "display_name": "Python 3",
   "language": "python",
   "name": "python3"
  },
  "language_info": {
   "codemirror_mode": {
    "name": "ipython",
    "version": 3
   },
   "file_extension": ".py",
   "mimetype": "text/x-python",
   "name": "python",
   "nbconvert_exporter": "python",
   "pygments_lexer": "ipython3",
   "version": "3.9.4"
  }
 },
 "nbformat": 4,
 "nbformat_minor": 4
}
