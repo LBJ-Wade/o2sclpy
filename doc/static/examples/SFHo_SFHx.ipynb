{
 "cells": [
  {
   "cell_type": "markdown",
   "id": "e0929fae",
   "metadata": {},
   "source": [
    "# SFHo/SFHx example for O$_2$sclpy"
   ]
  },
  {
   "cell_type": "markdown",
   "id": "27ed45fb",
   "metadata": {},
   "source": [
    "See the O$_2$sclpy documentation at\n",
    "https://neutronstars.utk.edu/code/o2sclpy for more information."
   ]
  },
  {
   "cell_type": "code",
   "execution_count": null,
   "id": "770f6e3c",
   "metadata": {},
   "outputs": [],
   "source": [
    "import o2sclpy\n",
    "import matplotlib.pyplot as plot\n",
    "import numpy\n",
    "import sys\n",
    "\n",
    "plots=True\n",
    "if 'pytest' in sys.modules:\n",
    "    plots=False"
   ]
  },
  {
   "cell_type": "markdown",
   "id": "1302c3d8",
   "metadata": {},
   "source": [
    "Link the O$_2$scl library:"
   ]
  },
  {
   "cell_type": "code",
   "execution_count": null,
   "id": "f2d3c2ad",
   "metadata": {},
   "outputs": [],
   "source": [
    "link=o2sclpy.linker()\n",
    "link.link_o2scl()"
   ]
  },
  {
   "cell_type": "markdown",
   "id": "9521b1db",
   "metadata": {},
   "source": [
    "Get the value of $\\hbar c$ from an O$_2$scl find_constants object:"
   ]
  },
  {
   "cell_type": "code",
   "execution_count": null,
   "id": "64829780",
   "metadata": {},
   "outputs": [],
   "source": [
    "fc=o2sclpy.find_constants(link)\n",
    "hc=fc.find_unique('hbarc','MeV*fm')\n",
    "print('hbarc = %7.6e' % (hc))"
   ]
  },
  {
   "cell_type": "markdown",
   "id": "b2c798dd",
   "metadata": {},
   "source": [
    "Get a copy (a pointer to) the O$_2$scl unit conversion object:"
   ]
  },
  {
   "cell_type": "code",
   "execution_count": null,
   "id": "ac9764d7",
   "metadata": {},
   "outputs": [],
   "source": [
    "cu=link.o2scl_settings.get_convert_units()"
   ]
  },
  {
   "cell_type": "code",
   "execution_count": null,
   "id": "ce958a89",
   "metadata": {},
   "outputs": [],
   "source": [
    "sfho=o2sclpy.eos_had_rmf(link)\n",
    "o2sclpy.rmf_load(link,sfho,'SFHo')\n",
    "sfhx=o2sclpy.eos_had_rmf(link)\n",
    "o2sclpy.rmf_load(link,sfhx,'SFHx')"
   ]
  },
  {
   "cell_type": "markdown",
   "id": "4166fdae",
   "metadata": {},
   "source": [
    "Compute nuclear saturation and output the saturation density\n",
    "and binding energy:"
   ]
  },
  {
   "cell_type": "code",
   "execution_count": null,
   "id": "09f6d5fb",
   "metadata": {},
   "outputs": [],
   "source": [
    "sfho.saturation()\n",
    "print(('SFHo: n0=%7.6e 1/fm^3, E/A=%7.6e MeV, K=%7.6e MeV, '+\n",
    "       'M*/M=%7.6e, S=%7.6e MeV, L=%7.6e MeV') % \n",
    "      (sfho.n0,sfho.eoa*hc,sfho.comp*hc,sfho.msom,sfho.esym*hc,\n",
    "       sfho.fesym_slope(sfho.n0)*hc))\n",
    "print('')"
   ]
  },
  {
   "cell_type": "code",
   "execution_count": null,
   "id": "c5188850",
   "metadata": {
    "lines_to_next_cell": 1
   },
   "outputs": [],
   "source": [
    "sfhx.saturation()\n",
    "print(('SFHx: n0=%7.6e 1/fm^3, E/A=%7.6e MeV, K=%7.6e MeV, '+\n",
    "       'M*/M=%7.6e, S=%7.6e MeV, L=%7.6e MeV') % \n",
    "      (sfhx.n0,sfhx.eoa*hc,sfhx.comp*hc,sfhx.msom,sfhx.esym*hc,\n",
    "       sfhx.fesym_slope(sfhx.n0)*hc))\n",
    "print('')"
   ]
  },
  {
   "cell_type": "markdown",
   "id": "c670694c",
   "metadata": {},
   "source": [
    "xarr=[i*0.02+0.02 for i in range(0,16)]\n",
    "for T in numpy.arange(0,20,5):\n",
    "   sfho.calc_"
   ]
  },
  {
   "cell_type": "code",
   "execution_count": null,
   "id": "21cc9787",
   "metadata": {},
   "outputs": [],
   "source": [
    "def test_fun():\n",
    "    assert numpy.allclose(sfho.n0,0.1582415,rtol=1.0e-4)\n",
    "    assert numpy.allclose(sfhx.n0,0.1600292,rtol=1.0e-4)\n",
    "    return"
   ]
  },
  {
   "cell_type": "code",
   "execution_count": null,
   "id": "937507f8",
   "metadata": {},
   "outputs": [],
   "source": []
  }
 ],
 "metadata": {
  "jupytext": {
   "cell_metadata_filter": "-all",
   "main_language": "python",
   "notebook_metadata_filter": "-all"
  }
 },
 "nbformat": 4,
 "nbformat_minor": 5
}
