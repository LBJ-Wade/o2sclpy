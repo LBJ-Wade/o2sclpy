{
 "cells": [
  {
   "cell_type": "markdown",
   "metadata": {},
   "source": [
    "# Skyrme example for O$_2$sclpy"
   ]
  },
  {
   "cell_type": "markdown",
   "metadata": {},
   "source": [
    "See the O$_2$sclpy documentation at https://neutronstars.utk.edu/code/o2sclpy for more information."
   ]
  },
  {
   "cell_type": "code",
   "execution_count": 1,
   "metadata": {},
   "outputs": [],
   "source": [
    "import o2sclpy\n",
    "import matplotlib.pyplot as plot\n",
    "import ctypes"
   ]
  },
  {
   "cell_type": "markdown",
   "metadata": {},
   "source": [
    "Link the O$_2$scl library:"
   ]
  },
  {
   "cell_type": "code",
   "execution_count": 2,
   "metadata": {},
   "outputs": [],
   "source": [
    "link=o2sclpy.linker()\n",
    "link.link_o2scl_o2graph()"
   ]
  },
  {
   "cell_type": "markdown",
   "metadata": {},
   "source": [
    "Get the value of $\\hbar c$ from an O$_2$scl find_constants object:"
   ]
  },
  {
   "cell_type": "code",
   "execution_count": 3,
   "metadata": {},
   "outputs": [
    {
     "name": "stdout",
     "output_type": "stream",
     "text": [
      "hbarc = 1.973270e+02\n"
     ]
    }
   ],
   "source": [
    "fc=o2sclpy.find_constants(link)\n",
    "hc=fc.find_unique('hbarc','MeV*fm')\n",
    "print('hbarc = %7.6e' % (hc))"
   ]
  },
  {
   "cell_type": "markdown",
   "metadata": {},
   "source": [
    "Get a copy (a pointer to) the O$_2$scl unit conversion object:"
   ]
  },
  {
   "cell_type": "code",
   "execution_count": 4,
   "metadata": {},
   "outputs": [],
   "source": [
    "cu=link.o2scl_settings.get_convert_units()"
   ]
  },
  {
   "cell_type": "markdown",
   "metadata": {},
   "source": [
    "Create neutron and proton objects and set their spin degeneracy and\n",
    "masses. The O$_2$scl EOS classes expect these masses to be in units of inverse\n",
    "femtometers."
   ]
  },
  {
   "cell_type": "code",
   "execution_count": 5,
   "metadata": {},
   "outputs": [],
   "source": [
    "neut=o2sclpy.fermion(link)\n",
    "neut.g=2.0\n",
    "neut.m=cu.convert('g','1/fm',fc.find_unique('massneutron','g'))"
   ]
  },
  {
   "cell_type": "code",
   "execution_count": 6,
   "metadata": {},
   "outputs": [],
   "source": [
    "prot=o2sclpy.fermion(link)\n",
    "prot.g=2.0\n",
    "prot.m=cu.convert('g','1/fm',fc.find_unique('massproton','g'))"
   ]
  },
  {
   "cell_type": "markdown",
   "metadata": {},
   "source": [
    "Python wrapper objects contain some Python\n",
    "documentation and a link to the associated O$_2$scl documentation."
   ]
  },
  {
   "cell_type": "code",
   "execution_count": 7,
   "metadata": {},
   "outputs": [
    {
     "name": "stdout",
     "output_type": "stream",
     "text": [
      "Help on class fermion in module o2sclpy.part:\n",
      "\n",
      "class fermion(part)\n",
      " |  fermion(link, pointer=0)\n",
      " |  \n",
      " |  Python interface for O\\ :sub:`2`\\ scl class ``fermion``,\n",
      " |  which is a typedef of ``fermion_tl<double>``. See\n",
      " |  https://neutronstars.utk.edu/code/o2scl-dev/part/html/class/fermion_tl.html\n",
      " |  .\n",
      " |  \n",
      " |  Method resolution order:\n",
      " |      fermion\n",
      " |      part\n",
      " |      builtins.object\n",
      " |  \n",
      " |  Methods defined here:\n",
      " |  \n",
      " |  __del__(self)\n",
      " |      Delete function for class fermion .\n",
      " |  \n",
      " |  __init__(self, link, pointer=0)\n",
      " |      Init function for class fermion .\n",
      " |      \n",
      " |      | Parameters:\n",
      " |      | *link* :class:`linker` object\n",
      " |      | *pointer* ``ctypes.c_void_p`` pointer\n",
      " |  \n",
      " |  copy(self, src)\n",
      " |      Shallow copy function for class fermion .\n",
      " |  \n",
      " |  ----------------------------------------------------------------------\n",
      " |  Data descriptors defined here:\n",
      " |  \n",
      " |  delta\n",
      " |      Property of type ``ctypes.c_double``\n",
      " |  \n",
      " |  kf\n",
      " |      Property of type ``ctypes.c_double``\n",
      " |  \n",
      " |  ----------------------------------------------------------------------\n",
      " |  Methods inherited from part:\n",
      " |  \n",
      " |  anti(self, ax)\n",
      " |      | Parameters:\n",
      " |      | *ax*: :class:`part` object\n",
      " |  \n",
      " |  init(self, mass, dof)\n",
      " |      | Parameters:\n",
      " |      | *mass*: ``double``\n",
      " |      | *dof*: ``double``\n",
      " |  \n",
      " |  ----------------------------------------------------------------------\n",
      " |  Data descriptors inherited from part:\n",
      " |  \n",
      " |  __dict__\n",
      " |      dictionary for instance variables (if defined)\n",
      " |  \n",
      " |  __weakref__\n",
      " |      list of weak references to the object (if defined)\n",
      " |  \n",
      " |  ed\n",
      " |      Property of type ``ctypes.c_double``\n",
      " |  \n",
      " |  en\n",
      " |      Property of type ``ctypes.c_double``\n",
      " |  \n",
      " |  g\n",
      " |      Property of type ``ctypes.c_double``\n",
      " |  \n",
      " |  inc_rest_mass\n",
      " |      Property of type ``ctypes.c_bool``\n",
      " |  \n",
      " |  m\n",
      " |      Property of type ``ctypes.c_double``\n",
      " |  \n",
      " |  ms\n",
      " |      Property of type ``ctypes.c_double``\n",
      " |  \n",
      " |  mu\n",
      " |      Property of type ``ctypes.c_double``\n",
      " |  \n",
      " |  n\n",
      " |      Property of type ``ctypes.c_double``\n",
      " |  \n",
      " |  non_interacting\n",
      " |      Property of type ``ctypes.c_bool``\n",
      " |  \n",
      " |  nu\n",
      " |      Property of type ``ctypes.c_double``\n",
      " |  \n",
      " |  pr\n",
      " |      Property of type ``ctypes.c_double``\n",
      "\n"
     ]
    }
   ],
   "source": [
    "help(o2sclpy.fermion)"
   ]
  },
  {
   "cell_type": "markdown",
   "metadata": {},
   "source": [
    "Create the Skyrme EOS object and load the NRAPR parameterization:"
   ]
  },
  {
   "cell_type": "code",
   "execution_count": 8,
   "metadata": {},
   "outputs": [],
   "source": [
    "sk=o2sclpy.eos_had_skyrme(link)\n",
    "o2sclpy.skyrme_load(link,sk,'NRAPR',False,0)"
   ]
  },
  {
   "cell_type": "markdown",
   "metadata": {},
   "source": [
    "Compute nuclear saturation and output the saturation density\n",
    "and binding energy:"
   ]
  },
  {
   "cell_type": "code",
   "execution_count": 9,
   "metadata": {},
   "outputs": [
    {
     "name": "stdout",
     "output_type": "stream",
     "text": [
      "NRAPR: n0=1.605785e-01 1/fm^3, E/A=-1.585619e+01 MeV\n",
      "\n"
     ]
    }
   ],
   "source": [
    "sk.saturation()\n",
    "print('NRAPR: n0=%7.6e 1/fm^3, E/A=%7.6e MeV' % (sk.n0,sk.eoa*hc))\n",
    "print('')"
   ]
  },
  {
   "cell_type": "markdown",
   "metadata": {},
   "source": [
    "Create the nstar_cold object for automatically computing the\n",
    "beta-equilibrium EOS and solving the TOV equations:"
   ]
  },
  {
   "cell_type": "code",
   "execution_count": 10,
   "metadata": {},
   "outputs": [],
   "source": [
    "nc=o2sclpy.nstar_cold(link)"
   ]
  },
  {
   "cell_type": "markdown",
   "metadata": {},
   "source": [
    "Let the nstar_cold object know we want to use the Skyrme NRAPR EOS:"
   ]
  },
  {
   "cell_type": "code",
   "execution_count": 11,
   "metadata": {},
   "outputs": [],
   "source": [
    "nc.set_eos(sk)"
   ]
  },
  {
   "cell_type": "markdown",
   "metadata": {},
   "source": [
    "Compute the EOS"
   ]
  },
  {
   "cell_type": "code",
   "execution_count": 12,
   "metadata": {},
   "outputs": [],
   "source": [
    "ret1=nc.calc_eos(0.01)"
   ]
  },
  {
   "cell_type": "markdown",
   "metadata": {},
   "source": [
    "Summarize the columns in the EOS table and their associated units. The strings returned by the C++ wrappers are bytes objects, so we need to convert them to strings to print them out."
   ]
  },
  {
   "cell_type": "code",
   "execution_count": 13,
   "metadata": {},
   "outputs": [
    {
     "name": "stdout",
     "output_type": "stream",
     "text": [
      "EOS table:\n",
      "Column 0 ed 1/fm^4\n",
      "Column 1 pr 1/fm^4\n",
      "Column 2 nb 1/fm^3\n",
      "Column 3 mun 1/fm\n",
      "Column 4 mup 1/fm\n",
      "Column 5 mue 1/fm\n",
      "Column 6 nn 1/fm^3\n",
      "Column 7 np 1/fm^3\n",
      "Column 8 ne 1/fm^3\n",
      "Column 9 kfn 1/fm\n",
      "Column 10 kfp 1/fm\n",
      "Column 11 kfe 1/fm\n",
      "Column 12 fcs2 \n",
      "Column 13 dednb_Ye 1/fm\n",
      "Column 14 dPdnb_Ye 1/fm\n",
      "Column 15 cs2 \n",
      "Column 16 logp \n",
      "Column 17 loge \n",
      "Column 18 s 1/fm\n",
      "Column 19 urca 1/fm^4\n",
      "Column 20 ad_index \n",
      "\n"
     ]
    }
   ],
   "source": [
    "eos_table=nc.get_eos_results()\n",
    "print('EOS table:')\n",
    "for i in range(0,eos_table.get_ncolumns()):\n",
    "    col=eos_table.get_column_name(i)\n",
    "    unit=eos_table.get_unit(col)\n",
    "    print('Column',i,str(col,'UTF-8'),str(unit,'UTF-8'))\n",
    "print('')"
   ]
  },
  {
   "cell_type": "markdown",
   "metadata": {},
   "source": [
    "Get the columns of the table as numpy arrays, and then plot the EOS:"
   ]
  },
  {
   "cell_type": "code",
   "execution_count": 14,
   "metadata": {},
   "outputs": [
    {
     "name": "stdout",
     "output_type": "stream",
     "text": [
      "<class 'numpy.ndarray'>\n"
     ]
    },
    {
     "data": {
      "image/png": "[encoded data removed]",
      "text/plain": [
       "<Figure size 432x288 with 1 Axes>"
      ]
     },
     "metadata": {
      "needs_background": "light"
     },
     "output_type": "display_data"
    }
   ],
   "source": [
    "nb=eos_table['nb']\n",
    "print(type(nb))\n",
    "ed=eos_table['ed']\n",
    "edhc=[ed[i]*hc for i in range(0,eos_table.get_nlines())]\n",
    "plot.plot(nb,edhc)\n",
    "plot.xlabel('baryon density (1/fm^3)')\n",
    "plot.ylabel('energy density (MeV/fm^3)')\n",
    "plot.show()"
   ]
  },
  {
   "cell_type": "markdown",
   "metadata": {},
   "source": [
    "Compute the M-R curve using the TOV equations. TOV solver automatically outputs some information to std::cout, and we use the cap_cout class to ensure that output goes here\n",
    "instead of the jupyter console."
   ]
  },
  {
   "cell_type": "code",
   "execution_count": 15,
   "metadata": {},
   "outputs": [
    {
     "name": "stdout",
     "output_type": "stream",
     "text": [
      "Contents of std::cout:\n",
      "Mass versus radius mode.\n",
      "Central P: 7.0000e-07 (Msun/km^3), M: 1.1194e-01 (Msun), R: 4.9240e+01 (km)\n",
      "Central P: 7.7000e-07 (Msun/km^3), M: 1.1726e-01 (Msun), R: 4.1158e+01 (km)\n",
      "Central P: 8.4700e-07 (Msun/km^3), M: 1.2311e-01 (Msun), R: 3.5499e+01 (km)\n",
      "Central P: 9.3170e-07 (Msun/km^3), M: 1.2954e-01 (Msun), R: 3.1326e+01 (km)\n",
      "Central P: 1.0249e-06 (Msun/km^3), M: 1.3650e-01 (Msun), R: 2.8161e+01 (km)\n",
      "Central P: 1.1274e-06 (Msun/km^3), M: 1.4405e-01 (Msun), R: 2.5677e+01 (km)\n",
      "Central P: 1.2401e-06 (Msun/km^3), M: 1.5217e-01 (Msun), R: 2.3694e+01 (km)\n",
      "Central P: 1.3641e-06 (Msun/km^3), M: 1.6091e-01 (Msun), R: 2.2080e+01 (km)\n",
      "Central P: 1.5005e-06 (Msun/km^3), M: 1.7029e-01 (Msun), R: 2.0747e+01 (km)\n",
      "Central P: 1.6506e-06 (Msun/km^3), M: 1.8033e-01 (Msun), R: 1.9634e+01 (km)\n",
      "Central P: 1.8156e-06 (Msun/km^3), M: 1.9107e-01 (Msun), R: 1.8693e+01 (km)\n",
      "Central P: 1.9972e-06 (Msun/km^3), M: 2.0254e-01 (Msun), R: 1.7893e+01 (km)\n",
      "Central P: 2.1969e-06 (Msun/km^3), M: 2.1479e-01 (Msun), R: 1.7207e+01 (km)\n",
      "Central P: 2.4166e-06 (Msun/km^3), M: 2.2783e-01 (Msun), R: 1.6615e+01 (km)\n",
      "Central P: 2.6582e-06 (Msun/km^3), M: 2.4171e-01 (Msun), R: 1.6102e+01 (km)\n",
      "Central P: 2.9241e-06 (Msun/km^3), M: 2.5649e-01 (Msun), R: 1.5655e+01 (km)\n",
      "Central P: 3.2165e-06 (Msun/km^3), M: 2.7216e-01 (Msun), R: 1.5265e+01 (km)\n",
      "Central P: 3.5381e-06 (Msun/km^3), M: 2.8881e-01 (Msun), R: 1.4922e+01 (km)\n",
      "Central P: 3.8919e-06 (Msun/km^3), M: 3.0645e-01 (Msun), R: 1.4621e+01 (km)\n",
      "Central P: 4.2811e-06 (Msun/km^3), M: 3.2511e-01 (Msun), R: 1.4356e+01 (km)\n",
      "Central P: 4.7092e-06 (Msun/km^3), M: 3.4486e-01 (Msun), R: 1.4122e+01 (km)\n",
      "Central P: 5.1802e-06 (Msun/km^3), M: 3.6571e-01 (Msun), R: 1.3915e+01 (km)\n",
      "Central P: 5.6982e-06 (Msun/km^3), M: 3.8769e-01 (Msun), R: 1.3732e+01 (km)\n",
      "Central P: 6.2680e-06 (Msun/km^3), M: 4.1085e-01 (Msun), R: 1.3569e+01 (km)\n",
      "Central P: 6.8948e-06 (Msun/km^3), M: 4.3522e-01 (Msun), R: 1.3425e+01 (km)\n",
      "Central P: 7.5843e-06 (Msun/km^3), M: 4.6080e-01 (Msun), R: 1.3297e+01 (km)\n",
      "Central P: 8.3427e-06 (Msun/km^3), M: 4.8763e-01 (Msun), R: 1.3183e+01 (km)\n",
      "Central P: 9.1770e-06 (Msun/km^3), M: 5.1572e-01 (Msun), R: 1.3082e+01 (km)\n",
      "Central P: 1.0095e-05 (Msun/km^3), M: 5.4508e-01 (Msun), R: 1.2992e+01 (km)\n",
      "Central P: 1.1104e-05 (Msun/km^3), M: 5.7572e-01 (Msun), R: 1.2911e+01 (km)\n",
      "Central P: 1.2215e-05 (Msun/km^3), M: 6.0764e-01 (Msun), R: 1.2838e+01 (km)\n",
      "Central P: 1.3436e-05 (Msun/km^3), M: 6.4081e-01 (Msun), R: 1.2772e+01 (km)\n",
      "Central P: 1.4780e-05 (Msun/km^3), M: 6.7522e-01 (Msun), R: 1.2713e+01 (km)\n",
      "Central P: 1.6258e-05 (Msun/km^3), M: 7.1086e-01 (Msun), R: 1.2659e+01 (km)\n",
      "Central P: 1.7883e-05 (Msun/km^3), M: 7.4767e-01 (Msun), R: 1.2609e+01 (km)\n",
      "Central P: 1.9672e-05 (Msun/km^3), M: 7.8561e-01 (Msun), R: 1.2562e+01 (km)\n",
      "Central P: 2.1639e-05 (Msun/km^3), M: 8.2462e-01 (Msun), R: 1.2519e+01 (km)\n",
      "Central P: 2.3803e-05 (Msun/km^3), M: 8.6464e-01 (Msun), R: 1.2477e+01 (km)\n",
      "Central P: 2.6183e-05 (Msun/km^3), M: 9.0558e-01 (Msun), R: 1.2437e+01 (km)\n",
      "Central P: 2.8801e-05 (Msun/km^3), M: 9.4737e-01 (Msun), R: 1.2398e+01 (km)\n",
      "Central P: 3.1681e-05 (Msun/km^3), M: 9.8988e-01 (Msun), R: 1.2360e+01 (km)\n",
      "Central P: 3.4850e-05 (Msun/km^3), M: 1.0330e+00 (Msun), R: 1.2321e+01 (km)\n",
      "Central P: 3.8335e-05 (Msun/km^3), M: 1.0767e+00 (Msun), R: 1.2282e+01 (km)\n",
      "Central P: 4.2168e-05 (Msun/km^3), M: 1.1207e+00 (Msun), R: 1.2242e+01 (km)\n",
      "Central P: 4.6385e-05 (Msun/km^3), M: 1.1649e+00 (Msun), R: 1.2200e+01 (km)\n",
      "Central P: 5.1023e-05 (Msun/km^3), M: 1.2093e+00 (Msun), R: 1.2157e+01 (km)\n",
      "Central P: 5.6126e-05 (Msun/km^3), M: 1.2536e+00 (Msun), R: 1.2112e+01 (km)\n",
      "Central P: 6.1738e-05 (Msun/km^3), M: 1.2976e+00 (Msun), R: 1.2065e+01 (km)\n",
      "Central P: 6.7912e-05 (Msun/km^3), M: 1.3413e+00 (Msun), R: 1.2015e+01 (km)\n",
      "Central P: 7.4703e-05 (Msun/km^3), M: 1.3844e+00 (Msun), R: 1.1963e+01 (km)\n",
      "Central P: 8.2174e-05 (Msun/km^3), M: 1.4268e+00 (Msun), R: 1.1908e+01 (km)\n",
      "Central P: 9.0391e-05 (Msun/km^3), M: 1.4683e+00 (Msun), R: 1.1850e+01 (km)\n",
      "Central P: 9.9430e-05 (Msun/km^3), M: 1.5087e+00 (Msun), R: 1.1789e+01 (km)\n",
      "Central P: 1.0937e-04 (Msun/km^3), M: 1.5480e+00 (Msun), R: 1.1724e+01 (km)\n",
      "Central P: 1.2031e-04 (Msun/km^3), M: 1.5859e+00 (Msun), R: 1.1657e+01 (km)\n",
      "Central P: 1.3234e-04 (Msun/km^3), M: 1.6223e+00 (Msun), R: 1.1586e+01 (km)\n",
      "Central P: 1.4558e-04 (Msun/km^3), M: 1.6571e+00 (Msun), R: 1.1513e+01 (km)\n",
      "Central P: 1.6013e-04 (Msun/km^3), M: 1.6902e+00 (Msun), R: 1.1436e+01 (km)\n",
      "Central P: 1.7615e-04 (Msun/km^3), M: 1.7214e+00 (Msun), R: 1.1356e+01 (km)\n",
      "Central P: 1.9376e-04 (Msun/km^3), M: 1.7507e+00 (Msun), R: 1.1273e+01 (km)\n",
      "Central P: 2.1314e-04 (Msun/km^3), M: 1.7779e+00 (Msun), R: 1.1187e+01 (km)\n",
      "Central P: 2.3445e-04 (Msun/km^3), M: 1.8030e+00 (Msun), R: 1.1098e+01 (km)\n",
      "Central P: 2.5790e-04 (Msun/km^3), M: 1.8260e+00 (Msun), R: 1.1007e+01 (km)\n",
      "Central P: 2.8369e-04 (Msun/km^3), M: 1.8468e+00 (Msun), R: 1.0914e+01 (km)\n",
      "Central P: 3.1205e-04 (Msun/km^3), M: 1.8654e+00 (Msun), R: 1.0818e+01 (km)\n",
      "Central P: 3.4326e-04 (Msun/km^3), M: 1.8817e+00 (Msun), R: 1.0720e+01 (km)\n",
      "Central P: 3.7759e-04 (Msun/km^3), M: 1.8958e+00 (Msun), R: 1.0620e+01 (km)\n",
      "Central P: 4.1534e-04 (Msun/km^3), M: 1.9078e+00 (Msun), R: 1.0519e+01 (km)\n",
      "Central P: 4.5688e-04 (Msun/km^3), M: 1.9175e+00 (Msun), R: 1.0416e+01 (km)\n",
      "Central P: 5.0257e-04 (Msun/km^3), M: 1.9251e+00 (Msun), R: 1.0312e+01 (km)\n",
      "Central P: 5.5282e-04 (Msun/km^3), M: 1.9307e+00 (Msun), R: 1.0207e+01 (km)\n",
      "Central P: 6.0811e-04 (Msun/km^3), M: 1.9342e+00 (Msun), R: 1.0102e+01 (km)\n",
      "Central P: 6.6892e-04 (Msun/km^3), M: 1.9358e+00 (Msun), R: 9.9955e+00 (km)\n",
      "Central P: 7.3581e-04 (Msun/km^3), M: 1.9356e+00 (Msun), R: 9.8891e+00 (km)\n",
      "Central P: 8.0939e-04 (Msun/km^3), M: 1.9336e+00 (Msun), R: 9.7826e+00 (km)\n",
      "Central P: 8.9033e-04 (Msun/km^3), M: 1.9298e+00 (Msun), R: 9.6762e+00 (km)\n",
      "Central P: 9.7936e-04 (Msun/km^3), M: 1.9246e+00 (Msun), R: 9.5703e+00 (km)\n",
      "Central P: 1.0773e-03 (Msun/km^3), M: 1.9178e+00 (Msun), R: 9.4649e+00 (km)\n",
      "Central P: 1.1850e-03 (Msun/km^3), M: 1.9096e+00 (Msun), R: 9.3604e+00 (km)\n",
      "Central P: 1.3035e-03 (Msun/km^3), M: 1.9001e+00 (Msun), R: 9.2568e+00 (km)\n",
      "Central P: 1.4339e-03 (Msun/km^3), M: 1.8895e+00 (Msun), R: 9.1545e+00 (km)\n",
      "Central P: 1.5773e-03 (Msun/km^3), M: 1.8778e+00 (Msun), R: 9.0535e+00 (km)\n",
      "Central P: 1.7350e-03 (Msun/km^3), M: 1.8651e+00 (Msun), R: 8.9541e+00 (km)\n",
      "Central P: 1.9085e-03 (Msun/km^3), M: 1.8515e+00 (Msun), R: 8.8565e+00 (km)\n",
      "Central P: 2.0993e-03 (Msun/km^3), M: 1.8371e+00 (Msun), R: 8.7608e+00 (km)\n",
      "Central P: 2.3093e-03 (Msun/km^3), M: 1.8220e+00 (Msun), R: 8.6671e+00 (km)\n",
      "Central P: 2.5402e-03 (Msun/km^3), M: 1.8064e+00 (Msun), R: 8.5758e+00 (km)\n",
      "Central P: 2.7942e-03 (Msun/km^3), M: 1.7902e+00 (Msun), R: 8.4869e+00 (km)\n",
      "Central P: 3.0736e-03 (Msun/km^3), M: 1.7737e+00 (Msun), R: 8.4009e+00 (km)\n",
      "Central P: 3.3810e-03 (Msun/km^3), M: 1.7568e+00 (Msun), R: 8.3178e+00 (km)\n",
      "Central P: 3.7191e-03 (Msun/km^3), M: 1.7396e+00 (Msun), R: 8.2378e+00 (km)\n",
      "Central P: 4.0910e-03 (Msun/km^3), M: 1.7222e+00 (Msun), R: 8.1612e+00 (km)\n",
      "Central P: 4.5001e-03 (Msun/km^3), M: 1.7048e+00 (Msun), R: 8.0878e+00 (km)\n",
      "Central P: 4.9501e-03 (Msun/km^3), M: 1.6872e+00 (Msun), R: 8.0180e+00 (km)\n",
      "Central P: 5.4452e-03 (Msun/km^3), M: 1.6698e+00 (Msun), R: 7.9518e+00 (km)\n",
      "Central P: 5.9897e-03 (Msun/km^3), M: 1.6524e+00 (Msun), R: 7.8893e+00 (km)\n",
      "Central P: 6.5886e-03 (Msun/km^3), M: 1.6352e+00 (Msun), R: 7.8305e+00 (km)\n",
      "Central P: 7.2475e-03 (Msun/km^3), M: 1.6182e+00 (Msun), R: 7.7756e+00 (km)\n",
      "Central P: 7.9723e-03 (Msun/km^3), M: 1.6015e+00 (Msun), R: 7.7246e+00 (km)\n",
      "\n"
     ]
    }
   ],
   "source": [
    "cc=o2sclpy.cap_cout()\n",
    "cc.open()\n",
    "ret2=nc.calc_nstar()\n",
    "cc.close()"
   ]
  },
  {
   "cell_type": "markdown",
   "metadata": {},
   "source": [
    "Get the table for the TOV results"
   ]
  },
  {
   "cell_type": "code",
   "execution_count": 16,
   "metadata": {},
   "outputs": [],
   "source": [
    "tov_table=nc.get_tov_results()"
   ]
  },
  {
   "cell_type": "markdown",
   "metadata": {},
   "source": [
    "Summarize the columns in the TOV table and their associated units."
   ]
  },
  {
   "cell_type": "code",
   "execution_count": 17,
   "metadata": {
    "lines_to_next_cell": 2
   },
   "outputs": [
    {
     "name": "stdout",
     "output_type": "stream",
     "text": [
      "TOV table:\n",
      "Column 0 gm Msun\n",
      "Column 1 r km\n",
      "Column 2 bm Msun\n",
      "Column 3 pr 1/fm^4\n",
      "Column 4 ed 1/fm^4\n",
      "Column 5 nb 1/fm^3\n",
      "Column 6 sg 1/km\n",
      "Column 7 rs \n",
      "Column 8 dmdr Msun/km\n",
      "Column 9 dlogpdr 1/km\n",
      "Column 10 dbmdr Msun/km\n",
      "\n"
     ]
    }
   ],
   "source": [
    "print('TOV table:')\n",
    "for i in range(0,tov_table.get_ncolumns()):\n",
    "    col=tov_table.get_column_name(i)\n",
    "    unit=tov_table.get_unit(col)\n",
    "    print('Column',i,str(col,'UTF-8'),str(unit,'UTF-8'))\n",
    "print('')"
   ]
  },
  {
   "cell_type": "code",
   "execution_count": 18,
   "metadata": {},
   "outputs": [
    {
     "data": {
      "image/png": "[encoded data removed]",
      "text/plain": [
       "<Figure size 432x288 with 1 Axes>"
      ]
     },
     "metadata": {
      "needs_background": "light"
     },
     "output_type": "display_data"
    }
   ],
   "source": [
    "plot.plot(tov_table['r'],tov_table['gm'])\n",
    "plot.xlabel('radius (km)')\n",
    "plot.ylabel('gravitational mass (Msun))')\n",
    "plot.show()"
   ]
  },
  {
   "cell_type": "markdown",
   "metadata": {},
   "source": [
    "This line computes the profile of a 1.4 solar mass \n",
    "neutron star. If you look at the console output you will\n",
    "notice that the maximum mass is computed first. This\n",
    "helps ensure the class doesn't give the profile of an\n",
    "unstable configuration."
   ]
  },
  {
   "cell_type": "code",
   "execution_count": 19,
   "metadata": {},
   "outputs": [],
   "source": [
    "ret2=nc.fixed(1.4)"
   ]
  },
  {
   "cell_type": "code",
   "execution_count": 20,
   "metadata": {},
   "outputs": [
    {
     "data": {
      "image/png": "[encoded data removed]",
      "text/plain": [
       "<Figure size 432x288 with 1 Axes>"
      ]
     },
     "metadata": {
      "needs_background": "light"
     },
     "output_type": "display_data"
    }
   ],
   "source": [
    "plot.plot(tov_table['r'],tov_table['gm'])\n",
    "plot.xlabel('radius (km)')\n",
    "plot.ylabel('gravitational mass (Msun))')\n",
    "plot.show()"
   ]
  },
  {
   "cell_type": "markdown",
   "metadata": {},
   "source": [
    "Create a O$_2$scl tov_love object to compute the tidal\n",
    "deformability:"
   ]
  },
  {
   "cell_type": "code",
   "execution_count": 21,
   "metadata": {},
   "outputs": [],
   "source": [
    "tl=o2sclpy.tov_love(link)\n",
    "tl.show_ode=1"
   ]
  },
  {
   "cell_type": "code",
   "execution_count": 22,
   "metadata": {},
   "outputs": [],
   "source": [
    "tov_table.deriv_col('ed','pr','cs2')"
   ]
  },
  {
   "cell_type": "markdown",
   "metadata": {},
   "source": [
    "Provide the TOV table to the tov_love object:"
   ]
  },
  {
   "cell_type": "code",
   "execution_count": 23,
   "metadata": {},
   "outputs": [],
   "source": [
    "tl.set_tab(tov_table)"
   ]
  },
  {
   "cell_type": "code",
   "execution_count": null,
   "metadata": {},
   "outputs": [],
   "source": [
    "yR=ctypes.c_double(0.0)\n",
    "beta=ctypes.c_double(0.0)\n",
    "k2=ctypes.c_double(0.0)\n",
    "lambda_km5=ctypes.c_double(0.0)\n",
    "lambda_cgs=ctypes.c_double(0.0)\n",
    "tl.calc_y(ctypes.byref(yR),ctypes.byref(beta),ctypes.byref(k2),\n",
    "          ctypes.byref(lambda_km5),ctypes.byref(lambda_cgs),False)"
   ]
  },
  {
   "cell_type": "code",
   "execution_count": null,
   "metadata": {},
   "outputs": [],
   "source": []
  }
 ],
 "metadata": {
  "jupytext": {
   "cell_metadata_filter": "-all",
   "main_language": "python",
   "notebook_metadata_filter": "-all"
  },
  "kernelspec": {
   "display_name": "Python 3",
   "language": "python",
   "name": "python3"
  },
  "language_info": {
   "codemirror_mode": {
    "name": "ipython",
    "version": 3
   },
   "file_extension": ".py",
   "mimetype": "text/x-python",
   "name": "python",
   "nbconvert_exporter": "python",
   "pygments_lexer": "ipython3",
   "version": "3.9.1"
  }
 },
 "nbformat": 4,
 "nbformat_minor": 4
}
