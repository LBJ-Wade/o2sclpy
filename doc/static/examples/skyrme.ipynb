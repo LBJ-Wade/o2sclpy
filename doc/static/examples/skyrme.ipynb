{
 "cells": [
  {
   "cell_type": "markdown",
   "id": "a5e35a4c",
   "metadata": {},
   "source": [
    "# Skyrme equation of state example for O$_2$sclpy"
   ]
  },
  {
   "cell_type": "markdown",
   "id": "eeb16114",
   "metadata": {},
   "source": [
    "See the O$_2$sclpy documentation at https://neutronstars.utk.edu/code/o2sclpy for more information."
   ]
  },
  {
   "cell_type": "code",
   "execution_count": null,
   "id": "8a685237",
   "metadata": {},
   "outputs": [],
   "source": [
    "import o2sclpy\n",
    "import matplotlib.pyplot as plot\n",
    "import ctypes\n",
    "import numpy\n",
    "import sys\n",
    "\n",
    "plots=True\n",
    "if 'pytest' in sys.modules:\n",
    "    plots=False"
   ]
  },
  {
   "cell_type": "markdown",
   "id": "5004efe7",
   "metadata": {},
   "source": [
    "Link the O$_2$scl library:"
   ]
  },
  {
   "cell_type": "code",
   "execution_count": null,
   "id": "c5125dc4",
   "metadata": {},
   "outputs": [],
   "source": [
    "link=o2sclpy.linker()\n",
    "link.link_o2scl()"
   ]
  },
  {
   "cell_type": "markdown",
   "id": "bf6a7907",
   "metadata": {},
   "source": [
    "Get the value of $\\hbar c$ from an O$_2$scl find_constants object:"
   ]
  },
  {
   "cell_type": "code",
   "execution_count": null,
   "id": "fb2d46b0",
   "metadata": {},
   "outputs": [],
   "source": [
    "fc=o2sclpy.find_constants(link)\n",
    "hc=fc.find_unique('hbarc','MeV*fm')\n",
    "print('hbarc = %7.6e' % (hc))"
   ]
  },
  {
   "cell_type": "markdown",
   "id": "520ec6ef",
   "metadata": {},
   "source": [
    "Get a copy (a pointer to) the O$_2$scl unit conversion object:"
   ]
  },
  {
   "cell_type": "code",
   "execution_count": null,
   "id": "c525d317",
   "metadata": {},
   "outputs": [],
   "source": [
    "cu=link.o2scl_settings.get_convert_units()"
   ]
  },
  {
   "cell_type": "markdown",
   "id": "1a437289",
   "metadata": {},
   "source": [
    "Create neutron and proton objects and set their spin degeneracy and\n",
    "masses. The O$_2$scl EOS classes expect these masses to be in units\n",
    "of inverse femtometers."
   ]
  },
  {
   "cell_type": "code",
   "execution_count": null,
   "id": "b426331a",
   "metadata": {},
   "outputs": [],
   "source": [
    "neut=o2sclpy.fermion(link)\n",
    "neut.g=2.0\n",
    "neut.m=cu.convert('g','1/fm',fc.find_unique('massneutron','g'))"
   ]
  },
  {
   "cell_type": "code",
   "execution_count": null,
   "id": "6cf04e60",
   "metadata": {},
   "outputs": [],
   "source": [
    "prot=o2sclpy.fermion(link)\n",
    "prot.g=2.0\n",
    "prot.m=cu.convert('g','1/fm',fc.find_unique('massproton','g'))"
   ]
  },
  {
   "cell_type": "markdown",
   "id": "d6e6e4f2",
   "metadata": {},
   "source": [
    "Create the Skyrme EOS object and load the NRAPR parameterization:"
   ]
  },
  {
   "cell_type": "code",
   "execution_count": null,
   "id": "c06aca48",
   "metadata": {},
   "outputs": [],
   "source": [
    "sk=o2sclpy.eos_had_skyrme(link)\n",
    "o2sclpy.skyrme_load(link,sk,'NRAPR',False,0)"
   ]
  },
  {
   "cell_type": "markdown",
   "id": "5142993f",
   "metadata": {},
   "source": [
    "Compute nuclear saturation and output the saturation density\n",
    "and binding energy:"
   ]
  },
  {
   "cell_type": "code",
   "execution_count": null,
   "id": "b113a451",
   "metadata": {},
   "outputs": [],
   "source": [
    "sk.saturation()\n",
    "print('NRAPR: n0=%7.6e 1/fm^3, E/A=%7.6e MeV' % (sk.n0,sk.eoa*hc))\n",
    "print('')"
   ]
  },
  {
   "cell_type": "markdown",
   "id": "d506cf39",
   "metadata": {},
   "source": [
    "Create the nstar_cold object for automatically computing the\n",
    "beta-equilibrium EOS and solving the TOV equations:"
   ]
  },
  {
   "cell_type": "code",
   "execution_count": null,
   "id": "ce653948",
   "metadata": {},
   "outputs": [],
   "source": [
    "nc=o2sclpy.nstar_cold(link)"
   ]
  },
  {
   "cell_type": "markdown",
   "id": "22ab821e",
   "metadata": {},
   "source": [
    "Let the nstar_cold object know we want to use the Skyrme NRAPR EOS:"
   ]
  },
  {
   "cell_type": "code",
   "execution_count": null,
   "id": "3aab5839",
   "metadata": {},
   "outputs": [],
   "source": [
    "nc.set_eos(sk)"
   ]
  },
  {
   "cell_type": "markdown",
   "id": "67b31836",
   "metadata": {},
   "source": [
    "Compute the EOS"
   ]
  },
  {
   "cell_type": "code",
   "execution_count": null,
   "id": "fd13a8ae",
   "metadata": {},
   "outputs": [],
   "source": [
    "ret1=nc.calc_eos(0.01)"
   ]
  },
  {
   "cell_type": "markdown",
   "id": "46a7279a",
   "metadata": {},
   "source": [
    "Summarize the columns in the EOS table and their associated units.\n",
    "The strings returned by the C++ wrappers are bytes objects, so we\n",
    "need to convert them to strings to print them out."
   ]
  },
  {
   "cell_type": "code",
   "execution_count": null,
   "id": "d50671e5",
   "metadata": {},
   "outputs": [],
   "source": [
    "eos_table=nc.get_eos_results()\n",
    "print('EOS table:')\n",
    "for i in range(0,eos_table.get_ncolumns()):\n",
    "    col=eos_table.get_column_name(i)\n",
    "    unit=eos_table.get_unit(col)\n",
    "    print('Column',i,str(col,'UTF-8'),str(unit,'UTF-8'))\n",
    "print('')"
   ]
  },
  {
   "cell_type": "markdown",
   "id": "4a070478",
   "metadata": {},
   "source": [
    "Get the columns of the table as numpy arrays, and then plot the EOS.\n",
    "The first line requires a bit of explanation. The raw vectors stored\n",
    "in O$_2$scl table objects are often larger than the current table\n",
    "size so it can grow efficiently. Thus we truncate the vector so that\n",
    "it matches the current table size."
   ]
  },
  {
   "cell_type": "code",
   "execution_count": null,
   "id": "a51c3689",
   "metadata": {},
   "outputs": [],
   "source": [
    "nb=eos_table['nb'][0:eos_table.get_nlines()]\n",
    "print(type(nb))\n",
    "ed=eos_table['ed'][0:eos_table.get_nlines()]\n",
    "edhc=[ed[i]*hc for i in range(0,eos_table.get_nlines())]\n",
    "plot.plot(nb,edhc)\n",
    "plot.xlabel('baryon density (1/fm^3)')\n",
    "plot.ylabel('energy density (MeV/fm^3)')\n",
    "if plots:\n",
    "    plot.show()"
   ]
  },
  {
   "cell_type": "markdown",
   "id": "8d1720a4",
   "metadata": {},
   "source": [
    "Compute the M-R curve using the TOV equations. TOV solver\n",
    "automatically outputs some information to std::cout, and we use the\n",
    "cap_cout class to ensure that output goes here instead of the\n",
    "jupyter console."
   ]
  },
  {
   "cell_type": "code",
   "execution_count": null,
   "id": "8f56258a",
   "metadata": {},
   "outputs": [],
   "source": [
    "cc=o2sclpy.cap_cout()\n",
    "cc.open()\n",
    "ret2=nc.calc_nstar()\n",
    "cc.close()"
   ]
  },
  {
   "cell_type": "markdown",
   "id": "f5ef9d1a",
   "metadata": {},
   "source": [
    "Get the table for the TOV results"
   ]
  },
  {
   "cell_type": "code",
   "execution_count": null,
   "id": "0c319a66",
   "metadata": {},
   "outputs": [],
   "source": [
    "tov_table=nc.get_tov_results()"
   ]
  },
  {
   "cell_type": "markdown",
   "id": "b7fc7e14",
   "metadata": {},
   "source": [
    "Summarize the columns in the TOV table and their associated units."
   ]
  },
  {
   "cell_type": "code",
   "execution_count": null,
   "id": "6ae39bec",
   "metadata": {
    "lines_to_next_cell": 2
   },
   "outputs": [],
   "source": [
    "print('TOV table:')\n",
    "for i in range(0,tov_table.get_ncolumns()):\n",
    "    col=tov_table.get_column_name(i)\n",
    "    unit=tov_table.get_unit(col)\n",
    "    print('Column',i,str(col,'UTF-8'),str(unit,'UTF-8'))\n",
    "print('')"
   ]
  },
  {
   "cell_type": "code",
   "execution_count": null,
   "id": "2cdba679",
   "metadata": {},
   "outputs": [],
   "source": [
    "plot.plot(tov_table['r'][0:tov_table.get_nlines()],\n",
    "          tov_table['gm'][0:tov_table.get_nlines()])\n",
    "plot.xlabel('radius (km)')\n",
    "plot.ylabel('gravitational mass (Msun))')\n",
    "if plots:\n",
    "    plot.show()"
   ]
  },
  {
   "cell_type": "markdown",
   "id": "325c3c43",
   "metadata": {},
   "source": [
    "This line computes the profile of a 1.4 solar mass \n",
    "neutron star. If you look at the console output you will\n",
    "notice that the maximum mass is computed first. This\n",
    "helps ensure the class doesn't give the profile of an\n",
    "unstable configuration."
   ]
  },
  {
   "cell_type": "code",
   "execution_count": null,
   "id": "970a4290",
   "metadata": {},
   "outputs": [],
   "source": [
    "ret2=nc.fixed(1.4)"
   ]
  },
  {
   "cell_type": "code",
   "execution_count": null,
   "id": "838b2c67",
   "metadata": {},
   "outputs": [],
   "source": [
    "plot.plot(tov_table['r'][0:tov_table.get_nlines()],\n",
    "          tov_table['gm'][0:tov_table.get_nlines()])\n",
    "plot.xlabel('radius (km)')\n",
    "plot.ylabel('gravitational mass (Msun))')\n",
    "if plots:\n",
    "    plot.show()"
   ]
  },
  {
   "cell_type": "markdown",
   "id": "42e3919b",
   "metadata": {},
   "source": [
    "Create a O$_2$scl ``tov_love`` object to compute the tidal\n",
    "deformability of a 1.4 solar mass neutron star."
   ]
  },
  {
   "cell_type": "code",
   "execution_count": null,
   "id": "873d3631",
   "metadata": {},
   "outputs": [],
   "source": [
    "tl=o2sclpy.tov_love(link)"
   ]
  },
  {
   "cell_type": "markdown",
   "id": "c3780063",
   "metadata": {},
   "source": [
    "The ``tov_love`` class requires the energy density and pressure to\n",
    "be in units of $ \\mathrm{M}_{\\odot}/\\mathrm{km}^3 $, so we convert\n",
    "those columns in the table"
   ]
  },
  {
   "cell_type": "code",
   "execution_count": null,
   "id": "aa663f81",
   "metadata": {},
   "outputs": [],
   "source": [
    "tov_table.convert_to_unit('ed','Msun/km^3',True)\n",
    "tov_table.convert_to_unit('pr','Msun/km^3',True)"
   ]
  },
  {
   "cell_type": "markdown",
   "id": "2a1e9616",
   "metadata": {},
   "source": [
    "The ``tov_love`` class also requires the speed of sound, so we\n",
    "compute it using interpolation."
   ]
  },
  {
   "cell_type": "code",
   "execution_count": null,
   "id": "6bb32d32",
   "metadata": {},
   "outputs": [],
   "source": [
    "tov_table.deriv_col('ed','pr','cs2')"
   ]
  },
  {
   "cell_type": "markdown",
   "id": "bc5f58de",
   "metadata": {},
   "source": [
    "Provide the TOV table to the ``tov_love`` object and compute the\n",
    "tidal deformability in units of $\\mathrm{km}^{-5}$:"
   ]
  },
  {
   "cell_type": "code",
   "execution_count": null,
   "id": "14c9e5e2",
   "metadata": {},
   "outputs": [],
   "source": [
    "tl.set_tab(tov_table)\n",
    "(ret,yR,beta,k2,lambda_km5,lambda_cgs)=tl.calc_y(False)\n",
    "\n",
    "print('%7.6e' % lambda_km5)"
   ]
  },
  {
   "cell_type": "markdown",
   "id": "3cc0e642",
   "metadata": {},
   "source": [
    "To get the dimensionless tidal deformability we divide by $(G M)^5$:"
   ]
  },
  {
   "cell_type": "code",
   "execution_count": null,
   "id": "52ef069a",
   "metadata": {
    "lines_to_next_cell": 1
   },
   "outputs": [],
   "source": [
    "twoG=fc.find_unique('schwarz','m')/1.0e3\n",
    "Lambda=lambda_km5/(1.4*twoG/2.0)**5\n",
    "print('%7.6e' % Lambda)"
   ]
  },
  {
   "cell_type": "markdown",
   "id": "c2d6aa89",
   "metadata": {},
   "source": [
    "For testing using ``pytest``:"
   ]
  },
  {
   "cell_type": "code",
   "execution_count": null,
   "id": "713d4a87",
   "metadata": {},
   "outputs": [],
   "source": [
    "def test_fun():\n",
    "    assert numpy.allclose(Lambda,296.26,rtol=1.0e-3)\n",
    "    return"
   ]
  }
 ],
 "metadata": {
  "jupytext": {
   "cell_metadata_filter": "-all",
   "main_language": "python",
   "notebook_metadata_filter": "-all"
  }
 },
 "nbformat": 4,
 "nbformat_minor": 5
}
