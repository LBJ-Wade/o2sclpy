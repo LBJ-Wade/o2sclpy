{
 "cells": [
  {
   "cell_type": "code",
   "execution_count": null,
   "id": "d22847a1",
   "metadata": {},
   "outputs": [],
   "source": [
    "import o2sclpy\n",
    "import numpy"
   ]
  },
  {
   "cell_type": "code",
   "execution_count": null,
   "id": "d8bfc0af",
   "metadata": {},
   "outputs": [],
   "source": [
    "link=o2sclpy.linker()\n",
    "link.link_o2scl(True)"
   ]
  },
  {
   "cell_type": "code",
   "execution_count": null,
   "id": "4b2bf486",
   "metadata": {},
   "outputs": [],
   "source": [
    "fc=o2sclpy.find_constants(link)\n",
    "hc=fc.find_unique('hbarc','MeV*fm')\n",
    "print('hbarc = %7.6e' % (hc))"
   ]
  },
  {
   "cell_type": "code",
   "execution_count": null,
   "id": "6932b5bc",
   "metadata": {},
   "outputs": [],
   "source": [
    "# Instantiate and load the Atomic Mass Evaluation\n",
    "ame=o2sclpy.nucmass_ame(link)\n",
    "o2sclpy.ame_load(link,ame,'16',False)"
   ]
  },
  {
   "cell_type": "code",
   "execution_count": null,
   "id": "3ecc90a3",
   "metadata": {},
   "outputs": [],
   "source": [
    "# Print out the number of entries\n",
    "print('Number of isotopes in the AME list:',ame.get_nentries())"
   ]
  },
  {
   "cell_type": "code",
   "execution_count": null,
   "id": "9e0805fb",
   "metadata": {},
   "outputs": [],
   "source": [
    "# Get lead-208\n",
    "nuc=o2sclpy.nucleus(link)\n",
    "ame.get_nucleus(82,126,nuc)"
   ]
  },
  {
   "cell_type": "code",
   "execution_count": null,
   "id": "b8bdd0ac",
   "metadata": {
    "lines_to_next_cell": 1
   },
   "outputs": [],
   "source": [
    "# Output the binding energy per nucleon in MeV\n",
    "print('Binding energy per nucleon in Pb-208 = %7.6e ' % (nuc.be/208*hc))"
   ]
  },
  {
   "cell_type": "code",
   "execution_count": null,
   "id": "acfea247",
   "metadata": {},
   "outputs": [],
   "source": [
    "def test_fun():\n",
    "    assert numpy.allclose(nuc.be/208*hc,-7.867,rtol=1.0e-3)\n",
    "    return"
   ]
  }
 ],
 "metadata": {
  "jupytext": {
   "cell_metadata_filter": "-all",
   "main_language": "python",
   "notebook_metadata_filter": "-all"
  }
 },
 "nbformat": 4,
 "nbformat_minor": 5
}
