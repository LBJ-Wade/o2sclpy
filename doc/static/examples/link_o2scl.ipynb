{
 "cells": [
  {
   "cell_type": "markdown",
   "metadata": {},
   "source": [
    "# O$_2$scl library linking example for O$_2$sclpy"
   ]
  },
  {
   "cell_type": "markdown",
   "metadata": {},
   "source": [
    "See the O$_2$sclpy documentation at https://neutronstars.utk.edu/code/o2sclpy for more information."
   ]
  },
  {
   "cell_type": "code",
   "execution_count": 1,
   "metadata": {},
   "outputs": [],
   "source": [
    "import o2sclpy\n",
    "import sys\n",
    "\n",
    "plots=True\n",
    "if 'pytest' in sys.modules:\n",
    "    plots=False"
   ]
  },
  {
   "cell_type": "markdown",
   "metadata": {},
   "source": [
    "This code dynamically links the O$_2$scl library. Environment variables can be used to specify the location of various libraries which need to be added. These values can also be set directly in the linker class (and then they override the environment variables). See http://neutronstars.utk.edu/code/o2sclpy/link_cpp.html#linking-with-o2scl for more detail. We set the verbose parameter to 1 to output more information about which libraries are being linked. "
   ]
  },
  {
   "cell_type": "code",
   "execution_count": 2,
   "metadata": {},
   "outputs": [
    {
     "name": "stdout",
     "output_type": "stream",
     "text": [
      "Set o2scl_cpp_lib from environment variable O2SCL_CPP_LIB to\n",
      "  '/usr/local/lib/gcc/10/libstdc++.dylib'.\n",
      "Loading C++ library '/usr/local/lib/gcc/10/libstdc++.dylib'.\n",
      "Finished loading C++ library.\n",
      "Set o2scl_addl_libs from environment variable O2SCL_ADDL_LIBS to:\n",
      "   ['/usr/lib/libreadline.dylib', '/usr/local/lib/gcc/10/libgomp.1.dylib']\n",
      "Loading additional library '/usr/lib/libreadline.dylib'.\n",
      "Loading additional library '/usr/local/lib/gcc/10/libgomp.1.dylib'.\n",
      "Finished loading additional libraries.\n",
      "Set o2scl_lib_dir from environment variable O2SCL_LIB to\n",
      "  '/usr/local/lib'.\n",
      "Loading /usr/local/lib/libo2scl.dylib.\n",
      "Loading /usr/local/lib/libo2scl_hdf.dylib.\n",
      "Loading /usr/local/lib/libo2scl_part.dylib.\n",
      "Loading /usr/local/lib/libo2scl_eos.dylib.\n",
      "Done loading o2scl libraries.\n",
      "Setting alternate error handler.\n"
     ]
    }
   ],
   "source": [
    "link=o2sclpy.linker()\n",
    "link.verbose=1\n",
    "link.link_o2scl()"
   ]
  },
  {
   "cell_type": "markdown",
   "metadata": {},
   "source": [
    "To test that the link worked, obtain the O$_2$scl version from the DLL:"
   ]
  },
  {
   "cell_type": "code",
   "execution_count": 3,
   "metadata": {},
   "outputs": [
    {
     "name": "stdout",
     "output_type": "stream",
     "text": [
      "b'0.926.a1'\n"
     ]
    }
   ],
   "source": [
    "print(link.o2scl_settings.o2scl_version())"
   ]
  },
  {
   "cell_type": "markdown",
   "metadata": {},
   "source": [
    "The linker class also has some documentation which may be helpful:"
   ]
  },
  {
   "cell_type": "code",
   "execution_count": 6,
   "metadata": {},
   "outputs": [
    {
     "name": "stdout",
     "output_type": "stream",
     "text": [
      "Help on class linker in module o2sclpy.link_o2scl:\n",
      "\n",
      "class linker(builtins.object)\n",
      " |  The class which controls the dynamic linking of the O2scl libraries\n",
      " |  and also the setting of the matplotlib backend for o2graph. If\n",
      " |  O2scl is successfully linked, this class also provides access\n",
      " |  to the global O2scl library settings object.\n",
      " |  \n",
      " |  Methods defined here:\n",
      " |  \n",
      " |  get_library_settings(self, argv=[])\n",
      " |      Get the library settings from environment variables or \n",
      " |      the command-line arguments\n",
      " |  \n",
      " |  link_o2scl(self, include_part=True, include_eos=True)\n",
      " |      A function for linking the o2scl libraries. If \n",
      " |      ``include_part`` is true, then the ``o2scl_part`` library is\n",
      " |      loaded. If \n",
      " |      ``include_eos`` is true, then the ``o2scl_eos`` library is\n",
      " |      loaded. The ``o2scl_hdf`` library is always loaded.\n",
      " |  \n",
      " |  ----------------------------------------------------------------------\n",
      " |  Data descriptors defined here:\n",
      " |  \n",
      " |  __dict__\n",
      " |      dictionary for instance variables (if defined)\n",
      " |  \n",
      " |  __weakref__\n",
      " |      list of weak references to the object (if defined)\n",
      " |  \n",
      " |  ----------------------------------------------------------------------\n",
      " |  Data and other attributes defined here:\n",
      " |  \n",
      " |  backend = ''\n",
      " |  \n",
      " |  o2scl = 0\n",
      " |  \n",
      " |  o2scl_addl = [<CDLL '/usr/lib/libreadline.dylib', handle 7f8d9522ef20>...\n",
      " |  \n",
      " |  o2scl_addl_libs = []\n",
      " |  \n",
      " |  o2scl_cpp_lib = ''\n",
      " |  \n",
      " |  o2scl_eos = 0\n",
      " |  \n",
      " |  o2scl_hdf = 0\n",
      " |  \n",
      " |  o2scl_lib_dir = ''\n",
      " |  \n",
      " |  o2scl_part = 0\n",
      " |  \n",
      " |  o2scl_settings = 0\n",
      " |  \n",
      " |  systcpp = 0\n",
      " |  \n",
      " |  verbose = 0\n",
      "\n"
     ]
    }
   ],
   "source": [
    "help(o2sclpy.linker)"
   ]
  },
  {
   "cell_type": "code",
   "execution_count": null,
   "metadata": {},
   "outputs": [],
   "source": []
  }
 ],
 "metadata": {
  "jupytext": {
   "cell_metadata_filter": "-all",
   "main_language": "python",
   "notebook_metadata_filter": "-all"
  },
  "kernelspec": {
   "display_name": "Python 3",
   "language": "python",
   "name": "python3"
  },
  "language_info": {
   "codemirror_mode": {
    "name": "ipython",
    "version": 3
   },
   "file_extension": ".py",
   "mimetype": "text/x-python",
   "name": "python",
   "nbconvert_exporter": "python",
   "pygments_lexer": "ipython3",
   "version": "3.9.4"
  }
 },
 "nbformat": 4,
 "nbformat_minor": 4
}
