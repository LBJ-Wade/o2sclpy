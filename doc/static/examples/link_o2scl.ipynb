{
 "cells": [
  {
   "cell_type": "markdown",
   "id": "6daae577",
   "metadata": {},
   "source": [
    "# O$_2$scl library linking example for O$_2$sclpy"
   ]
  },
  {
   "cell_type": "markdown",
   "id": "d49d09b2",
   "metadata": {},
   "source": [
    "See the O$_2$sclpy documentation at\n",
    "https://neutronstars.utk.edu/code/o2sclpy for more information."
   ]
  },
  {
   "cell_type": "code",
   "execution_count": null,
   "id": "80af1ad5",
   "metadata": {},
   "outputs": [],
   "source": [
    "import o2sclpy\n",
    "import sys\n",
    "\n",
    "plots=True\n",
    "if 'pytest' in sys.modules:\n",
    "    plots=False"
   ]
  },
  {
   "cell_type": "markdown",
   "id": "3be599f8",
   "metadata": {},
   "source": [
    "This code dynamically links the O$_2$scl library. Environment\n",
    "variables can be used to specify the location of various libraries\n",
    "which need to be added. These values can also be set directly in the\n",
    "linker class (and then they override the environment variables). See\n",
    "http://neutronstars.utk.edu/code/o2sclpy/link_cpp.html#linking-with-o2scl\n",
    "for more detail. We set the verbose parameter to 1 to output more\n",
    "information about which libraries are being linked."
   ]
  },
  {
   "cell_type": "code",
   "execution_count": null,
   "id": "2393c4ed",
   "metadata": {},
   "outputs": [],
   "source": [
    "link=o2sclpy.linker()\n",
    "link.verbose=1\n",
    "link.link_o2scl()"
   ]
  },
  {
   "cell_type": "markdown",
   "id": "cfc86bec",
   "metadata": {},
   "source": [
    "To test that the link worked, obtain the O$_2$scl version from the DLL:"
   ]
  },
  {
   "cell_type": "code",
   "execution_count": null,
   "id": "008c568c",
   "metadata": {
    "lines_to_next_cell": 1
   },
   "outputs": [],
   "source": [
    "print(link.o2scl_settings.o2scl_version())"
   ]
  },
  {
   "cell_type": "code",
   "execution_count": null,
   "id": "29cd866d",
   "metadata": {},
   "outputs": [],
   "source": [
    "def test_fun():\n",
    "    assert link.o2scl_settings.o2scl_version()=='0.927a1'\n",
    "    return"
   ]
  }
 ],
 "metadata": {
  "jupytext": {
   "cell_metadata_filter": "-all",
   "main_language": "python",
   "notebook_metadata_filter": "-all"
  }
 },
 "nbformat": 4,
 "nbformat_minor": 5
}
